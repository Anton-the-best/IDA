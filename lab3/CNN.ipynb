{
 "cells": [
  {
   "cell_type": "code",
   "execution_count": 2,
   "metadata": {},
   "outputs": [],
   "source": [
    "import os\n",
    "import cv2\n",
    "import numpy as np\n",
    "\n",
    "import tensorflow as tf\n"
   ]
  },
  {
   "cell_type": "code",
   "execution_count": 3,
   "metadata": {},
   "outputs": [],
   "source": [
    "x_train = []\n",
    "y_train = []\n",
    "for dirname, _, filenames in os.walk('dataset/train'):\n",
    "    for filename in filenames:\n",
    "        f=os.path.join(dirname, filename)\n",
    "        img = cv2.imread(f)\n",
    "        img = cv2.resize(img, (200,200), interpolation = cv2.INTER_AREA)\n",
    "        if img is None:\n",
    "            continue\n",
    "        else:\n",
    "            x_train.append(np.array(img))\n",
    "            if f.split(\"\\\\\")[-2] == \"cheetah\" :\n",
    "                y_train.append(0)\n",
    "            else :\n",
    "                y_train.append(1)\n",
    "\n",
    "x_test = []\n",
    "y_test = []\n",
    "for dirname, _, filenames in os.walk('dataset/test'):\n",
    "    for filename in filenames:\n",
    "        f=os.path.join(dirname, filename)\n",
    "        img = cv2.imread(f)\n",
    "        img = cv2.resize(img, (200,200), interpolation = cv2.INTER_AREA)\n",
    "        if img is None:\n",
    "            continue\n",
    "        else:\n",
    "            x_test.append(np.array(img))\n",
    "            if f.split(\"\\\\\")[-2] == \"cheetah\" :\n",
    "                y_test.append(0)\n",
    "            else :\n",
    "                y_test.append(1)\n",
    "\n",
    "\n",
    "x_test = np.array(x_test)\n",
    "x_train = np.array(x_train)\n",
    "y_test = np.array(y_test)\n",
    "y_train = np.array(y_train)\n"
   ]
  },
  {
   "cell_type": "code",
   "execution_count": 4,
   "metadata": {},
   "outputs": [
    {
     "name": "stdout",
     "output_type": "stream",
     "text": [
      "Epoch 1/10\n",
      "57/57 [==============================] - 50s 854ms/step - loss: 38.6510 - accuracy: 0.5222 - val_loss: 0.6999 - val_accuracy: 0.4900\n",
      "Epoch 2/10\n",
      "57/57 [==============================] - 36s 629ms/step - loss: 0.8292 - accuracy: 0.6239 - val_loss: 0.7734 - val_accuracy: 0.5150\n",
      "Epoch 3/10\n",
      "57/57 [==============================] - 36s 629ms/step - loss: 0.6528 - accuracy: 0.6578 - val_loss: 0.7106 - val_accuracy: 0.5100\n",
      "Epoch 4/10\n",
      "57/57 [==============================] - 36s 625ms/step - loss: 0.5888 - accuracy: 0.7022 - val_loss: 0.7700 - val_accuracy: 0.5150\n",
      "Epoch 5/10\n",
      "57/57 [==============================] - 36s 632ms/step - loss: 0.5138 - accuracy: 0.7489 - val_loss: 0.7761 - val_accuracy: 0.5350\n",
      "Epoch 6/10\n",
      "57/57 [==============================] - 36s 636ms/step - loss: 0.4346 - accuracy: 0.8017 - val_loss: 0.8299 - val_accuracy: 0.4950\n",
      "Epoch 7/10\n",
      "57/57 [==============================] - 36s 630ms/step - loss: 0.3968 - accuracy: 0.8156 - val_loss: 0.8078 - val_accuracy: 0.5100\n",
      "Epoch 8/10\n",
      "57/57 [==============================] - 36s 638ms/step - loss: 0.3444 - accuracy: 0.8483 - val_loss: 1.0441 - val_accuracy: 0.5550\n",
      "Epoch 9/10\n",
      "57/57 [==============================] - 37s 640ms/step - loss: 0.2763 - accuracy: 0.8822 - val_loss: 1.3007 - val_accuracy: 0.6000\n",
      "Epoch 10/10\n",
      "57/57 [==============================] - 37s 643ms/step - loss: 0.2423 - accuracy: 0.8989 - val_loss: 1.2713 - val_accuracy: 0.5900\n",
      "7/7 - 1s - loss: 1.2713 - accuracy: 0.5900 - 767ms/epoch - 110ms/step\n",
      "0.5899999737739563\n"
     ]
    }
   ],
   "source": [
    "model = tf.keras.models.Sequential()\n",
    "model.add(tf.keras.layers.Conv2D(32, (3, 3), activation='relu', input_shape=x_train.shape[1:]))\n",
    "model.add(tf.keras.layers.MaxPooling2D((2, 2)))\n",
    "model.add(tf.keras.layers.Conv2D(64, (3, 3), activation='relu'))\n",
    "model.add(tf.keras.layers.MaxPooling2D((2, 2)))\n",
    "model.add(tf.keras.layers.Conv2D(64, (3, 3), activation='relu'))\n",
    "model.add(tf.keras.layers.Flatten())\n",
    "model.add(tf.keras.layers.Dense(64, activation='relu'))\n",
    "model.add(tf.keras.layers.Dropout(0.5))\n",
    "model.add(tf.keras.layers.Dense(2))\n",
    "\n",
    "model.compile(optimizer='adam',\n",
    "              loss=tf.keras.losses.SparseCategoricalCrossentropy(from_logits=True),\n",
    "              metrics=['accuracy'])\n",
    "\n",
    "history = model.fit(x_train, y_train, epochs=10, \n",
    "                    validation_data=(x_test, y_test)) \n",
    "\n",
    "test_loss, test_acc = model.evaluate(x_test,  y_test, verbose=2)  \n",
    "\n",
    "print(test_acc)\n"
   ]
  }
 ],
 "metadata": {
  "kernelspec": {
   "display_name": "Python 3",
   "language": "python",
   "name": "python3"
  },
  "language_info": {
   "codemirror_mode": {
    "name": "ipython",
    "version": 3
   },
   "file_extension": ".py",
   "mimetype": "text/x-python",
   "name": "python",
   "nbconvert_exporter": "python",
   "pygments_lexer": "ipython3",
   "version": "3.10.7"
  }
 },
 "nbformat": 4,
 "nbformat_minor": 2
}
