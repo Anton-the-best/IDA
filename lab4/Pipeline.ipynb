{
  "cells": [
    {
      "cell_type": "code",
      "execution_count": 1,
      "metadata": {
        "id": "RQCnE2ZUlR9y"
      },
      "outputs": [],
      "source": [
        "from transformers import pipeline, AutoTokenizer, AutoModelForQuestionAnswering\n",
        "model_name = \"robinhad/ukrainian-qa\"\n",
        "\n",
        "tokenizer = AutoTokenizer.from_pretrained(model_name)\n",
        "model = AutoModelForQuestionAnswering.from_pretrained(model_name)\n",
        "\n",
        "qa_model = pipeline(\"question-answering\", model=model.to(\"cpu\"), tokenizer=tokenizer)\n"
      ]
    },
    {
      "cell_type": "code",
      "execution_count": 2,
      "metadata": {
        "id": "MpWhAlOBoKrQ"
      },
      "outputs": [],
      "source": [
        "questions = [\"Де ти живеш?\",\n",
        "             \"Як тебе звати?\",\n",
        "             \"Скільки тобі років?\"]\n",
        "contexts = [\"Моє рідне місто - Львів, але я переїхав до Запоріжжя\",\n",
        "            \"Моя сім'я: я - Василь, дружина - Діана, син - Петро\",\n",
        "            \"В нас щасливий шлюб: дружині 23, мені 26\"]"
      ]
    },
    {
      "cell_type": "code",
      "execution_count": 3,
      "metadata": {
        "colab": {
          "base_uri": "https://localhost:8080/"
        },
        "id": "bF7e0qiQoMIn",
        "outputId": "76c1b0e5-7c53-4b5a-f880-974c5313ac9f"
      },
      "outputs": [
        {
          "name": "stdout",
          "output_type": "stream",
          "text": [
            "{'score': 0.5906381607055664, 'start': 42, 'end': 52, 'answer': ' Запоріжжя'}\n",
            "{'score': 0.7232950925827026, 'start': 14, 'end': 22, 'answer': ' Василь,'}\n",
            "{'score': 0.48234492540359497, 'start': 37, 'end': 40, 'answer': ' 26'}\n"
          ]
        }
      ],
      "source": [
        "for i in range(3):\n",
        "  print(qa_model(question = questions[i], context = contexts[i]))"
      ]
    }
  ],
  "metadata": {
    "colab": {
      "provenance": []
    },
    "kernelspec": {
      "display_name": "Python 3",
      "name": "python3"
    },
    "language_info": {
      "name": "python",
      "version": "3.10.7"
    }
  },
  "nbformat": 4,
  "nbformat_minor": 0
}
